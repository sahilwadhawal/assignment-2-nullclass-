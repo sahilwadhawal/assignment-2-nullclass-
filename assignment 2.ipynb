{
 "cells": [
  {
   "cell_type": "code",
   "execution_count": 1,
   "metadata": {},
   "outputs": [],
   "source": [
    "import tensorflow as tf\n",
    "import numpy as np\n",
    "import json\n",
    "from keras.preprocessing.text import Tokenizer\n",
    "from keras.utils import pad_sequences"
   ]
  },
  {
   "cell_type": "code",
   "execution_count": 2,
   "metadata": {},
   "outputs": [],
   "source": [
    "# Load the transformer model\n",
    "transformer = tf.keras.models.load_model('transformer_model')\n",
    "\n",
    "# Load the tokenization configuration and vocabulary for English and Spanish\n",
    "with open('eng_vectorization_config.json', 'r', encoding='utf-8') as f:\n",
    "    eng_vectorization_config = json.load(f)\n",
    "    max_len = eng_vectorization_config.get('max_len', 20)  # Default to 20 if 'max_len' is missing\n",
    "\n",
    "with open('eng_vocab.json', 'r', encoding='utf-8') as f:\n",
    "    eng_vocab = json.load(f)\n",
    "\n",
    "with open('spa_vectorization_config.json', 'r', encoding='utf-8') as f:\n",
    "    spa_vectorization_config = json.load(f)\n",
    "    spa_max_len = spa_vectorization_config.get('max_len', 20)  # Default to 20 if 'max_len' is missing\n",
    "\n",
    "with open('spa_vocab.json', 'r', encoding='utf-8') as f:\n",
    "    spa_vocab = json.load(f)\n",
    "\n",
    "# Initialize tokenizers\n",
    "eng_tokenizer = Tokenizer()\n",
    "eng_tokenizer.word_index = {word: index for index, word in enumerate(eng_vocab)}\n",
    "\n",
    "spa_tokenizer = Tokenizer()\n",
    "spa_tokenizer.word_index = {word: index for index, word in enumerate(spa_vocab)}\n",
    "\n",
    "# Define the function for vectorizing English input sentences\n",
    "def eng_vectorization(sentences):\n",
    "    sequences = eng_tokenizer.texts_to_sequences(sentences)\n",
    "    return pad_sequences(sequences, maxlen=max_len, padding='post')\n",
    "\n",
    "# Define BeamSearchDecoder class with corrected __init__ method\n",
    "class BeamSearchDecoder:\n",
    "    def __init__(self, model, tokenizer, beam_width, max_seq_len):\n",
    "        self.model = model\n",
    "        self.tokenizer = tokenizer\n",
    "        self.beam_width = beam_width\n",
    "        self.max_seq_len = max_seq_len\n",
    "        self.start_token = tokenizer.word_index.get('[start]', 0)\n",
    "        self.end_token = tokenizer.word_index.get('[end]', 0)\n",
    "        self.vocab_size = len(tokenizer.word_index)\n",
    "\n",
    "    def decode(self, input_seq):\n",
    "        # Initialize the beam with the start token\n",
    "        beam = [(input_seq, [self.start_token], 0)]\n",
    "        \n",
    "        # Loop until the beam reaches the maximum sequence length\n",
    "        for _ in range(self.max_seq_len):\n",
    "            new_beam = []\n",
    "            for input_seq, output_seq, score in beam:\n",
    "                # Expand the current output sequence\n",
    "                output_seq_padded = pad_sequences([output_seq], maxlen=self.max_seq_len, padding='post')\n",
    "                predictions = self.model.predict([input_seq, output_seq_padded], verbose=0)\n",
    "                \n",
    "                # Get the top-k predictions\n",
    "                top_k_indices = np.argsort(predictions[0, len(output_seq)-1, :])[-self.beam_width:]\n",
    "                for index in top_k_indices:\n",
    "                    new_score = score + np.log(predictions[0, len(output_seq)-1, index])\n",
    "                    new_seq = output_seq + [index]\n",
    "                    new_beam.append((input_seq, new_seq, new_score))\n",
    "            \n",
    "            # Keep the best beam_width sequences\n",
    "            beam = sorted(new_beam, key=lambda x: x[2], reverse=True)[:self.beam_width]\n",
    "            \n",
    "            # If the end token is reached, break\n",
    "            if all(seq[-1] == self.end_token for _, seq, _ in beam):\n",
    "                break\n",
    "\n",
    "        # Return the best sequence\n",
    "        return beam[0][1]\n",
    "\n",
    "def sequence_to_text(sequence, tokenizer):\n",
    "    index_to_word = {index: word for word, index in tokenizer.word_index.items()}\n",
    "    return ' '.join([index_to_word.get(index, '') for index in sequence if index != 0 and index != tokenizer.word_index.get('[start]', -1) and index != tokenizer.word_index.get('[end]', -1)])\n",
    "\n",
    "# Translate function using beam search\n",
    "def translate_sentence(sentence, beam_width=3, max_seq_len=20):\n",
    "    input_seq = eng_vectorization([sentence])\n",
    "    beam_search_decoder = BeamSearchDecoder(transformer, spa_tokenizer, beam_width, max_seq_len)\n",
    "    decoded_sequence = beam_search_decoder.decode(input_seq)\n",
    "    return sequence_to_text(decoded_sequence, spa_tokenizer)"
   ]
  },
  {
   "cell_type": "code",
   "execution_count": 3,
   "metadata": {},
   "outputs": [
    {
     "name": "stdout",
     "output_type": "stream",
     "text": [
      "Original sentence: that cat was my most loved animal\n",
      "Translated sentence: ese gato era el canadiense\n"
     ]
    }
   ],
   "source": [
    "# Example usage and printing the translated sentence\n",
    "sentence = \"that cat was my most loved animal\"\n",
    "translated_sentence = translate_sentence(sentence)\n",
    "print(f\"Original sentence: {sentence}\")\n",
    "print(f\"Translated sentence: {translated_sentence}\")"
   ]
  },
  {
   "cell_type": "code",
   "execution_count": null,
   "metadata": {},
   "outputs": [],
   "source": []
  }
 ],
 "metadata": {
  "kernelspec": {
   "display_name": "nullclass1",
   "language": "python",
   "name": "python3"
  },
  "language_info": {
   "codemirror_mode": {
    "name": "ipython",
    "version": 3
   },
   "file_extension": ".py",
   "mimetype": "text/x-python",
   "name": "python",
   "nbconvert_exporter": "python",
   "pygments_lexer": "ipython3",
   "version": "3.9.18"
  }
 },
 "nbformat": 4,
 "nbformat_minor": 2
}
