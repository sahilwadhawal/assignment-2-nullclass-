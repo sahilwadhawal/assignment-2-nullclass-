{
 "cells": [
  {
   "cell_type": "code",
   "execution_count": 1,
   "metadata": {},
   "outputs": [],
   "source": [
    "import tensorflow as tf\n",
    "import numpy as np\n",
    "import json\n",
    "from keras.preprocessing.text import Tokenizer\n",
    "from keras.utils import pad_sequences"
   ]
  },
  {
   "cell_type": "code",
   "execution_count": 2,
   "metadata": {},
   "outputs": [
    {
     "ename": "OSError",
     "evalue": "No file or directory found at transformer_model",
     "output_type": "error",
     "traceback": [
      "\u001b[1;31m---------------------------------------------------------------------------\u001b[0m",
      "\u001b[1;31mOSError\u001b[0m                                   Traceback (most recent call last)",
      "Cell \u001b[1;32mIn[2], line 2\u001b[0m\n\u001b[0;32m      1\u001b[0m \u001b[38;5;66;03m# Load the transformer model\u001b[39;00m\n\u001b[1;32m----> 2\u001b[0m transformer \u001b[38;5;241m=\u001b[39m \u001b[43mtf\u001b[49m\u001b[38;5;241;43m.\u001b[39;49m\u001b[43mkeras\u001b[49m\u001b[38;5;241;43m.\u001b[39;49m\u001b[43mmodels\u001b[49m\u001b[38;5;241;43m.\u001b[39;49m\u001b[43mload_model\u001b[49m\u001b[43m(\u001b[49m\u001b[38;5;124;43m'\u001b[39;49m\u001b[38;5;124;43mtransformer_model\u001b[39;49m\u001b[38;5;124;43m'\u001b[39;49m\u001b[43m)\u001b[49m\n\u001b[0;32m      4\u001b[0m \u001b[38;5;66;03m# Load the tokenization configuration and vocabulary for English and Spanish\u001b[39;00m\n\u001b[0;32m      5\u001b[0m \u001b[38;5;28;01mwith\u001b[39;00m \u001b[38;5;28mopen\u001b[39m(\u001b[38;5;124m'\u001b[39m\u001b[38;5;124meng_vectorization_config.json\u001b[39m\u001b[38;5;124m'\u001b[39m, \u001b[38;5;124m'\u001b[39m\u001b[38;5;124mr\u001b[39m\u001b[38;5;124m'\u001b[39m, encoding\u001b[38;5;241m=\u001b[39m\u001b[38;5;124m'\u001b[39m\u001b[38;5;124mutf-8\u001b[39m\u001b[38;5;124m'\u001b[39m) \u001b[38;5;28;01mas\u001b[39;00m f:\n",
      "File \u001b[1;32mc:\\Users\\sahil\\anaconda3\\envs\\nullclass1\\lib\\site-packages\\keras\\utils\\traceback_utils.py:70\u001b[0m, in \u001b[0;36mfilter_traceback.<locals>.error_handler\u001b[1;34m(*args, **kwargs)\u001b[0m\n\u001b[0;32m     67\u001b[0m     filtered_tb \u001b[38;5;241m=\u001b[39m _process_traceback_frames(e\u001b[38;5;241m.\u001b[39m__traceback__)\n\u001b[0;32m     68\u001b[0m     \u001b[38;5;66;03m# To get the full stack trace, call:\u001b[39;00m\n\u001b[0;32m     69\u001b[0m     \u001b[38;5;66;03m# `tf.debugging.disable_traceback_filtering()`\u001b[39;00m\n\u001b[1;32m---> 70\u001b[0m     \u001b[38;5;28;01mraise\u001b[39;00m e\u001b[38;5;241m.\u001b[39mwith_traceback(filtered_tb) \u001b[38;5;28;01mfrom\u001b[39;00m \u001b[38;5;28;01mNone\u001b[39;00m\n\u001b[0;32m     71\u001b[0m \u001b[38;5;28;01mfinally\u001b[39;00m:\n\u001b[0;32m     72\u001b[0m     \u001b[38;5;28;01mdel\u001b[39;00m filtered_tb\n",
      "File \u001b[1;32mc:\\Users\\sahil\\anaconda3\\envs\\nullclass1\\lib\\site-packages\\keras\\saving\\save.py:226\u001b[0m, in \u001b[0;36mload_model\u001b[1;34m(filepath, custom_objects, compile, options)\u001b[0m\n\u001b[0;32m    224\u001b[0m \u001b[38;5;28;01mif\u001b[39;00m \u001b[38;5;28misinstance\u001b[39m(filepath_str, \u001b[38;5;28mstr\u001b[39m):\n\u001b[0;32m    225\u001b[0m     \u001b[38;5;28;01mif\u001b[39;00m \u001b[38;5;129;01mnot\u001b[39;00m tf\u001b[38;5;241m.\u001b[39mio\u001b[38;5;241m.\u001b[39mgfile\u001b[38;5;241m.\u001b[39mexists(filepath_str):\n\u001b[1;32m--> 226\u001b[0m         \u001b[38;5;28;01mraise\u001b[39;00m \u001b[38;5;167;01mIOError\u001b[39;00m(\n\u001b[0;32m    227\u001b[0m             \u001b[38;5;124mf\u001b[39m\u001b[38;5;124m\"\u001b[39m\u001b[38;5;124mNo file or directory found at \u001b[39m\u001b[38;5;132;01m{\u001b[39;00mfilepath_str\u001b[38;5;132;01m}\u001b[39;00m\u001b[38;5;124m\"\u001b[39m\n\u001b[0;32m    228\u001b[0m         )\n\u001b[0;32m    230\u001b[0m     \u001b[38;5;28;01mif\u001b[39;00m tf\u001b[38;5;241m.\u001b[39mio\u001b[38;5;241m.\u001b[39mgfile\u001b[38;5;241m.\u001b[39misdir(filepath_str):\n\u001b[0;32m    231\u001b[0m         \u001b[38;5;28;01mreturn\u001b[39;00m saved_model_load\u001b[38;5;241m.\u001b[39mload(\n\u001b[0;32m    232\u001b[0m             filepath_str, \u001b[38;5;28mcompile\u001b[39m, options\n\u001b[0;32m    233\u001b[0m         )\n",
      "\u001b[1;31mOSError\u001b[0m: No file or directory found at transformer_model"
     ]
    }
   ],
   "source": [
    "# Load the transformer model\n",
    "transformer = tf.keras.models.load_model('transformer_model')\n",
    "\n",
    "# Load the tokenization configuration and vocabulary for English and Spanish\n",
    "with open('eng_vectorization_config.json', 'r', encoding='utf-8') as f:\n",
    "    eng_vectorization_config = json.load(f)\n",
    "    max_len = eng_vectorization_config.get('max_len', 20)  # Default to 20 if 'max_len' is missing\n",
    "\n",
    "with open('eng_vocab.json', 'r', encoding='utf-8') as f:\n",
    "    eng_vocab = json.load(f)\n",
    "\n",
    "with open('spa_vectorization_config.json', 'r', encoding='utf-8') as f:\n",
    "    spa_vectorization_config = json.load(f)\n",
    "    spa_max_len = spa_vectorization_config.get('max_len', 20)  # Default to 20 if 'max_len' is missing\n",
    "\n",
    "with open('spa_vocab.json', 'r', encoding='utf-8') as f:\n",
    "    spa_vocab = json.load(f)\n",
    "\n",
    "# Initialize tokenizers\n",
    "eng_tokenizer = Tokenizer()\n",
    "eng_tokenizer.word_index = {word: index for index, word in enumerate(eng_vocab)}\n",
    "\n",
    "spa_tokenizer = Tokenizer()\n",
    "spa_tokenizer.word_index = {word: index for index, word in enumerate(spa_vocab)}\n",
    "\n",
    "# Define the function for vectorizing English input sentences\n",
    "def eng_vectorization(sentences):\n",
    "    sequences = eng_tokenizer.texts_to_sequences(sentences)\n",
    "    return pad_sequences(sequences, maxlen=max_len, padding='post')\n",
    "\n",
    "# Define BeamSearchDecoder class with corrected __init__ method\n",
    "class BeamSearchDecoder:\n",
    "    def __init__(self, model, tokenizer, beam_width, max_seq_len):\n",
    "        self.model = model\n",
    "        self.tokenizer = tokenizer\n",
    "        self.beam_width = beam_width\n",
    "        self.max_seq_len = max_seq_len\n",
    "        self.start_token = tokenizer.word_index.get('[start]', 0)\n",
    "        self.end_token = tokenizer.word_index.get('[end]', 0)\n",
    "        self.vocab_size = len(tokenizer.word_index)\n",
    "\n",
    "    def decode(self, input_seq):\n",
    "        # Initialize the beam with the start token\n",
    "        beam = [(input_seq, [self.start_token], 0)]\n",
    "        \n",
    "        # Loop until the beam reaches the maximum sequence length\n",
    "        for _ in range(self.max_seq_len):\n",
    "            new_beam = []\n",
    "            for input_seq, output_seq, score in beam:\n",
    "                # Expand the current output sequence\n",
    "                output_seq_padded = pad_sequences([output_seq], maxlen=self.max_seq_len, padding='post')\n",
    "                predictions = self.model.predict([input_seq, output_seq_padded], verbose=0)\n",
    "                \n",
    "                # Get the top-k predictions\n",
    "                top_k_indices = np.argsort(predictions[0, len(output_seq)-1, :])[-self.beam_width:]\n",
    "                for index in top_k_indices:\n",
    "                    new_score = score + np.log(predictions[0, len(output_seq)-1, index])\n",
    "                    new_seq = output_seq + [index]\n",
    "                    new_beam.append((input_seq, new_seq, new_score))\n",
    "            \n",
    "            # Keep the best beam_width sequences\n",
    "            beam = sorted(new_beam, key=lambda x: x[2], reverse=True)[:self.beam_width]\n",
    "            \n",
    "            # If the end token is reached, break\n",
    "            if all(seq[-1] == self.end_token for _, seq, _ in beam):\n",
    "                break\n",
    "\n",
    "        # Return the best sequence\n",
    "        return beam[0][1]\n",
    "\n",
    "def sequence_to_text(sequence, tokenizer):\n",
    "    index_to_word = {index: word for word, index in tokenizer.word_index.items()}\n",
    "    return ' '.join([index_to_word.get(index, '') for index in sequence if index != 0 and index != tokenizer.word_index.get('[start]', -1) and index != tokenizer.word_index.get('[end]', -1)])\n",
    "\n",
    "# Translate function using beam search\n",
    "def translate_sentence(sentence, beam_width=3, max_seq_len=20):\n",
    "    input_seq = eng_vectorization([sentence])\n",
    "    beam_search_decoder = BeamSearchDecoder(transformer, spa_tokenizer, beam_width, max_seq_len)\n",
    "    decoded_sequence = beam_search_decoder.decode(input_seq)\n",
    "    return sequence_to_text(decoded_sequence, spa_tokenizer)"
   ]
  },
  {
   "cell_type": "code",
   "execution_count": null,
   "metadata": {},
   "outputs": [],
   "source": [
    "# Example usage and printing the translated sentence\n",
    "sentence = \"that cat was my most loved animal\"\n",
    "translated_sentence = translate_sentence(sentence)\n",
    "print(f\"Original sentence: {sentence}\")\n",
    "print(f\"Translated sentence: {translated_sentence}\")"
   ]
  }
 ],
 "metadata": {
  "kernelspec": {
   "display_name": "nullclass1",
   "language": "python",
   "name": "python3"
  },
  "language_info": {
   "codemirror_mode": {
    "name": "ipython",
    "version": 3
   },
   "file_extension": ".py",
   "mimetype": "text/x-python",
   "name": "python",
   "nbconvert_exporter": "python",
   "pygments_lexer": "ipython3",
   "version": "3.9.18"
  }
 },
 "nbformat": 4,
 "nbformat_minor": 2
}
